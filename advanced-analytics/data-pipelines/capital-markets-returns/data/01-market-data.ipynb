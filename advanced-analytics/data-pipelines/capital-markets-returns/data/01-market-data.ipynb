{
 "metadata": {
  "language_info": {
   "codemirror_mode": {
    "name": "ipython",
    "version": 3
   },
   "file_extension": ".py",
   "mimetype": "text/x-python",
   "name": "python",
   "nbconvert_exporter": "python",
   "pygments_lexer": "ipython3",
   "version": "3.9.2"
  },
  "orig_nbformat": 2,
  "kernelspec": {
   "name": "python392jvsc74a57bd08584b0d30ee135358a219eb0a896dbf004fe3fa1b8b42be232d514971b6e5748",
   "display_name": "Python 3.9.2 64-bit ('ipre-ml': conda)"
  },
  "metadata": {
   "interpreter": {
    "hash": "9b5b4908fe61b8ebab602684c20018964d9a8bf9d844469f833b38cebe9bf69b"
   }
  }
 },
 "nbformat": 4,
 "nbformat_minor": 2,
 "cells": [
  {
   "source": [
    "# IPRE | Data pipeline | Capital markets data"
   ],
   "cell_type": "markdown",
   "metadata": {}
  },
  {
   "cell_type": "code",
   "execution_count": null,
   "metadata": {},
   "outputs": [],
   "source": [
    "import yfinance\n",
    "import numpy as np\n",
    "import seaborn as sns\n",
    "import matplotlib.pyplot as plt"
   ]
  },
  {
   "source": [
    "## Assumptions"
   ],
   "cell_type": "markdown",
   "metadata": {}
  },
  {
   "cell_type": "code",
   "execution_count": null,
   "metadata": {},
   "outputs": [],
   "source": [
    "selectTickers = {\n",
    "    \"AAPL\",\n",
    "    \"AMZN\",\n",
    "    \"GOOG\",\n",
    "    \"MSFT\",\n",
    "    \"^GSPC\",\n",
    "    \"TSLA\"\n",
    "}\n",
    "startDate = \"2017-01-01\"\n",
    "selectAttr = \"Adj Close\""
   ]
  },
  {
   "cell_type": "code",
   "execution_count": null,
   "metadata": {},
   "outputs": [],
   "source": [
    "quotes = yfinance.download(\n",
    "    tickers=selectTickers,\n",
    "    start=startDate\n",
    ")"
   ]
  },
  {
   "cell_type": "code",
   "execution_count": null,
   "metadata": {},
   "outputs": [],
   "source": [
    "closePrices = quotes[selectAttr]\n",
    "closePrices.head()"
   ]
  },
  {
   "cell_type": "code",
   "execution_count": null,
   "metadata": {},
   "outputs": [],
   "source": [
    "closeReturns = closePrices.pct_change(periods=20).dropna()\n",
    "closeReturns.head()"
   ]
  },
  {
   "cell_type": "code",
   "execution_count": null,
   "metadata": {},
   "outputs": [],
   "source": [
    "closeReturnsVCM = closeReturns.cov()\n",
    "closeReturnsVCM"
   ]
  },
  {
   "cell_type": "code",
   "execution_count": null,
   "metadata": {},
   "outputs": [],
   "source": [
    "closeReturnsCorr = closeReturns.corr()\n",
    "closeReturnsCorr"
   ]
  },
  {
   "cell_type": "code",
   "execution_count": null,
   "metadata": {},
   "outputs": [],
   "source": [
    "cumReturns = closeReturns.cumsum()\n",
    "cumReturns"
   ]
  },
  {
   "cell_type": "code",
   "execution_count": null,
   "metadata": {},
   "outputs": [],
   "source": []
  },
  {
   "cell_type": "code",
   "execution_count": null,
   "metadata": {},
   "outputs": [],
   "source": []
  },
  {
   "cell_type": "code",
   "execution_count": null,
   "metadata": {},
   "outputs": [],
   "source": []
  }
 ]
}